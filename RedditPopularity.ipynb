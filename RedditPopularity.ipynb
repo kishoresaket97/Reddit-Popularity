{
 "cells": [
  {
   "cell_type": "markdown",
   "metadata": {},
   "source": [
    "# POPULARITY OF A KEYWORD IN A SUBREDDIT"
   ]
  },
  {
   "cell_type": "markdown",
   "metadata": {},
   "source": [
    "**LETS FIGURE OUT WHAT A SPECIFIC GROUP OF PEOPLE OF YOUR CHOICE THOUGHT ABOUT SOMETHING OF YOUR CHOICE WITHIN A TIME FRAME OF YOUR CHOICE !** "
   ]
  },
  {
   "cell_type": "markdown",
   "metadata": {},
   "source": [
    "**Why reddit ?**\n",
    "\n",
    "\n",
    "Unlike facebook/instagram where a post has comments from a diverse crowd, reddit has subreddits where excluding some outliers, the comments/posts are mostly from people who have similar leanings, tastes and choices. \n",
    "Reddit is much more prone to group think in comparison to any other social media platform. \n",
    "\n",
    "Thus, in this way we can figure out what a specific group thinks about a specific person/thing/another group etc."
   ]
  },
  {
   "cell_type": "markdown",
   "metadata": {},
   "source": [
    "# PROBLEM STATEMENT : "
   ]
  },
  {
   "cell_type": "markdown",
   "metadata": {},
   "source": [
    "Calculate the fluctuatuation in popularity of our Prime Minister in the subreddit r/india and r/pakistan throughout the year 2018 and plot a graph"
   ]
  },
  {
   "cell_type": "code",
   "execution_count": 1,
   "metadata": {},
   "outputs": [],
   "source": [
    "import os\n",
    "import pandas as pd\n",
    "import numpy as np  \n",
    "import warnings\n",
    "import csv\n",
    "from textblob import TextBlob\n",
    "from textblob.sentiments import NaiveBayesAnalyzer\n",
    "from nltk.corpus import stopwords\n",
    "import string\n",
    "import nltk \n",
    "import praw \n",
    "import matplotlib.pyplot as plt\n",
    "from psaw import PushshiftAPI\n",
    "import os\n",
    "import pandas as pd\n",
    "import numpy as np  \n",
    "from datetime import datetime, timezone, timedelta\n",
    "from dateutil.relativedelta import relativedelta\n",
    "warnings.filterwarnings(\"ignore\")"
   ]
  },
  {
   "cell_type": "code",
   "execution_count": 2,
   "metadata": {},
   "outputs": [
    {
     "name": "stderr",
     "output_type": "stream",
     "text": [
      "[nltk_data] Downloading package stopwords to\n",
      "[nltk_data]     C:\\Users\\levi0\\AppData\\Roaming\\nltk_data...\n",
      "[nltk_data]   Package stopwords is already up-to-date!\n"
     ]
    },
    {
     "data": {
      "text/plain": [
       "True"
      ]
     },
     "execution_count": 2,
     "metadata": {},
     "output_type": "execute_result"
    }
   ],
   "source": [
    "import nltk\n",
    "from nltk.corpus import stopwords\n",
    "nltk.download('stopwords')"
   ]
  },
  {
   "cell_type": "code",
   "execution_count": 3,
   "metadata": {},
   "outputs": [],
   "source": [
    "stop = set(stopwords.words(\"english\"))"
   ]
  },
  {
   "cell_type": "markdown",
   "metadata": {},
   "source": [
    "**ADJUSTING THE TIME FRAME:** \n",
    "\n",
    "The time frame is adjusted such that the comments from first 25 days of every month in 2018 is calculated.\n",
    "\n",
    "start_epoch represents the 1st day of the month.\n",
    "\n",
    "end_epoch represents the 25th day of the month."
   ]
  },
  {
   "cell_type": "code",
   "execution_count": 4,
   "metadata": {},
   "outputs": [],
   "source": [
    "import datetime as dt\n",
    "\n",
    "start_epoch = []\n",
    "end_epoch = []\n",
    "\n",
    "for i in range(1,13):\n",
    "    se=int(dt.datetime(2018, i, 1).timestamp())\n",
    "    ee=int(dt.datetime(2018, i, 25).timestamp())\n",
    "    start_epoch.append(se)\n",
    "    end_epoch.append(ee)"
   ]
  },
  {
   "cell_type": "markdown",
   "metadata": {},
   "source": [
    "**COMMENT EXTRACTION:**\n",
    "\n",
    "A public API, pushshift is used to extract 100 comments for each month. \n",
    "\n",
    "This number can be increased depending upon the internet speed and system capabilities. "
   ]
  },
  {
   "cell_type": "code",
   "execution_count": 5,
   "metadata": {},
   "outputs": [],
   "source": [
    "comments = []\n",
    "api = PushshiftAPI()\n",
    "\n",
    "for i in range(0,12):\n",
    "    cmt=api.search_comments(after=start_epoch[i], before=end_epoch[i], q='Modi', subreddit='India', limit=100)\n",
    "    comments.append(cmt)"
   ]
  },
  {
   "cell_type": "markdown",
   "metadata": {},
   "source": [
    "**THE EXTRACTED COMMENTS ARE STORED IN A DATAFRAME:** \n",
    "\n",
    "To make the proprocessing and sentiment analysis simpler, the comments are stored in a dataframe."
   ]
  },
  {
   "cell_type": "code",
   "execution_count": 6,
   "metadata": {},
   "outputs": [],
   "source": [
    "corpus = pd.DataFrame()\n",
    "\n",
    "for i in range(0,12):\n",
    "    for c in comments[i]:\n",
    "        temp = pd.DataFrame({'Comment Bodies': c.body}, index = [0])\n",
    "        corpus = corpus.append(temp) "
   ]
  },
  {
   "cell_type": "markdown",
   "metadata": {},
   "source": [
    "**DATA PREPROCESSING & SENTIMENT ANALYSIS:** \n",
    "\n",
    "From the extracted comments punctuations, numbers and stopwords are removed and a separated column is created in the dataframe for the polarity score of each comment."
   ]
  },
  {
   "cell_type": "code",
   "execution_count": 7,
   "metadata": {},
   "outputs": [],
   "source": [
    "corpus = corpus.reset_index()\n",
    "\n",
    "corpus = corpus.drop(['index'], axis=1)\n",
    "\n",
    "corpus['Comment Bodies'] = corpus['Comment Bodies'].str.replace('[^\\w\\s]','')\n",
    "\n",
    "corpus['Comment Bodies'] = corpus['Comment Bodies'].str.replace('\\d+', '')\n",
    "\n",
    "corpus['Comment Bodies'] = corpus['Comment Bodies'].apply(lambda x: [item for item in str.split(x) if item not in stop])\n",
    "\n",
    "corpus['sentiment'] = corpus['Comment Bodies'].apply(lambda x: TextBlob(str(x)).sentiment.polarity)"
   ]
  },
  {
   "cell_type": "code",
   "execution_count": 100,
   "metadata": {},
   "outputs": [
    {
     "data": {
      "text/html": [
       "<div>\n",
       "<style scoped>\n",
       "    .dataframe tbody tr th:only-of-type {\n",
       "        vertical-align: middle;\n",
       "    }\n",
       "\n",
       "    .dataframe tbody tr th {\n",
       "        vertical-align: top;\n",
       "    }\n",
       "\n",
       "    .dataframe thead th {\n",
       "        text-align: right;\n",
       "    }\n",
       "</style>\n",
       "<table border=\"1\" class=\"dataframe\">\n",
       "  <thead>\n",
       "    <tr style=\"text-align: right;\">\n",
       "      <th></th>\n",
       "      <th>Comment Bodies</th>\n",
       "      <th>sentiment</th>\n",
       "    </tr>\n",
       "  </thead>\n",
       "  <tbody>\n",
       "    <tr>\n",
       "      <th>0</th>\n",
       "      <td>[modi, made, Rahul, Gandhi, look, good, I, don...</td>\n",
       "      <td>9.251859e-18</td>\n",
       "    </tr>\n",
       "    <tr>\n",
       "      <th>1</th>\n",
       "      <td>[gtThanks, waking, years, destruction, Please,...</td>\n",
       "      <td>-2.291667e-02</td>\n",
       "    </tr>\n",
       "    <tr>\n",
       "      <th>2</th>\n",
       "      <td>[gtI, used, defend, BJP, lot, But, I, longer, ...</td>\n",
       "      <td>-2.500000e-01</td>\n",
       "    </tr>\n",
       "    <tr>\n",
       "      <th>3</th>\n",
       "      <td>[Absolutely, I, kinda, hoped, since, Modi, amp...</td>\n",
       "      <td>1.000000e-01</td>\n",
       "    </tr>\n",
       "    <tr>\n",
       "      <th>4</th>\n",
       "      <td>[This, article, adblocker, unfriendly, followi...</td>\n",
       "      <td>1.643715e-01</td>\n",
       "    </tr>\n",
       "  </tbody>\n",
       "</table>\n",
       "</div>"
      ],
      "text/plain": [
       "                                      Comment Bodies     sentiment\n",
       "0  [modi, made, Rahul, Gandhi, look, good, I, don...  9.251859e-18\n",
       "1  [gtThanks, waking, years, destruction, Please,... -2.291667e-02\n",
       "2  [gtI, used, defend, BJP, lot, But, I, longer, ... -2.500000e-01\n",
       "3  [Absolutely, I, kinda, hoped, since, Modi, amp...  1.000000e-01\n",
       "4  [This, article, adblocker, unfriendly, followi...  1.643715e-01"
      ]
     },
     "execution_count": 100,
     "metadata": {},
     "output_type": "execute_result"
    }
   ],
   "source": [
    "corpus.head(5)"
   ]
  },
  {
   "cell_type": "markdown",
   "metadata": {},
   "source": [
    "**CALCULATING THE MEAN POLARITY SCORE OF EVERY MONTH'S COMMENTS:**\n",
    "\n",
    "The dataframe has 1200 polarity scores and we know that the first 100 represent january, from 100-200 represent february and so on, so we extract the 100 polarity scores for each month, calculate the mean and then store it in a list called msen."
   ]
  },
  {
   "cell_type": "code",
   "execution_count": 8,
   "metadata": {},
   "outputs": [],
   "source": [
    "msen = []\n",
    "i=1\n",
    "j=100\n",
    "\n",
    "for k in range(i,j):\n",
    "    cvs = corpus['sentiment'].iloc[i:j].mean()\n",
    "    msen.append(cvs)\n",
    "    i=i+100\n",
    "    j=j+100\n",
    "    if(j==1300):\n",
    "        break"
   ]
  },
  {
   "cell_type": "code",
   "execution_count": 9,
   "metadata": {},
   "outputs": [],
   "source": [
    "months =  [\"January\", \"February\", \"March\", \"April\", \"May\", \"June\", \"July\", \"August\", \"September\", \"October\", \"November\", \"December\"]"
   ]
  },
  {
   "cell_type": "markdown",
   "metadata": {},
   "source": [
    "**PLOTTING A POPULARITY VS MONTH GRAPH FOR 2018**"
   ]
  },
  {
   "cell_type": "code",
   "execution_count": 10,
   "metadata": {},
   "outputs": [
    {
     "data": {
      "text/plain": [
       "Text(0.5, 1.0, \"PM Modi's popularity in r/india throughout 2018\")"
      ]
     },
     "execution_count": 10,
     "metadata": {},
     "output_type": "execute_result"
    },
    {
     "data": {
      "image/png": "[encoded data removed]",
      "text/plain": [
       "<Figure size 864x360 with 1 Axes>"
      ]
     },
     "metadata": {
      "needs_background": "light"
     },
     "output_type": "display_data"
    }
   ],
   "source": [
    "plt.figure(figsize=(12,5))\n",
    "plt.plot(months,msen,color='blue', linestyle=':', marker='o',\n",
    "         markerfacecolor='orange', markersize=10)\n",
    "plt.xlabel('Month')\n",
    "plt.ylabel('Popularity')\n",
    "plt.title(\"PM Modi's popularity in r/india throughout 2018\")"
   ]
  },
  {
   "cell_type": "markdown",
   "metadata": {},
   "source": [
    "# **THE SAME WAS DONE FOR r/Pakistan:**\n",
    "**However unlike r/india, r/pakistan in a smaller subreddit with less active members in comparison. So the number of comments per month was reduced to 10. Thus, the dataset contained only 120 comments.**"
   ]
  },
  {
   "cell_type": "code",
   "execution_count": 11,
   "metadata": {},
   "outputs": [],
   "source": [
    "import datetime as dt\n",
    "\n",
    "start_epoch = []\n",
    "end_epoch = []\n",
    "\n",
    "for i in range(1,13):\n",
    "    se=int(dt.datetime(2018, i, 1).timestamp())\n",
    "    ee=int(dt.datetime(2018, i, 25).timestamp())\n",
    "    start_epoch.append(se)\n",
    "    end_epoch.append(ee)"
   ]
  },
  {
   "cell_type": "code",
   "execution_count": 30,
   "metadata": {},
   "outputs": [],
   "source": [
    "comments_pak = []\n",
    "api = PushshiftAPI()\n",
    "\n",
    "for i in range(0,12):\n",
    "    cmt1=api.search_comments(after=start_epoch[i], before=end_epoch[i], q='Modi', subreddit='Pakistan', limit=10)\n",
    "    comments_pak.append(cmt1)"
   ]
  },
  {
   "cell_type": "code",
   "execution_count": 33,
   "metadata": {},
   "outputs": [],
   "source": [
    "corpus_pak = pd.DataFrame()\n",
    "\n",
    "for i in range(0,12):\n",
    "    for c in comments_pak[i]:\n",
    "        temp1 = pd.DataFrame({'Comment Bodies': c.body}, index = [0])\n",
    "        corpus_pak = corpus_pak.append(temp1) "
   ]
  },
  {
   "cell_type": "code",
   "execution_count": 36,
   "metadata": {},
   "outputs": [],
   "source": [
    "corpus_pak = corpus_pak.reset_index()\n",
    "\n",
    "corpus_pak = corpus_pak.drop(['index'], axis=1)\n",
    "\n",
    "corpus_pak['Comment Bodies'] = corpus_pak['Comment Bodies'].str.replace('[^\\w\\s]','')\n",
    "\n",
    "corpus_pak['Comment Bodies'] = corpus_pak['Comment Bodies'].str.replace('\\d+', '')\n",
    "\n",
    "corpus_pak['Comment Bodies'] = corpus_pak['Comment Bodies'].apply(lambda x: [item for item in str.split(x) if item not in stop])\n",
    "\n",
    "corpus_pak['sentiment'] = corpus_pak['Comment Bodies'].apply(lambda x: TextBlob(str(x)).sentiment.polarity)"
   ]
  },
  {
   "cell_type": "code",
   "execution_count": 99,
   "metadata": {},
   "outputs": [
    {
     "data": {
      "text/html": [
       "<div>\n",
       "<style scoped>\n",
       "    .dataframe tbody tr th:only-of-type {\n",
       "        vertical-align: middle;\n",
       "    }\n",
       "\n",
       "    .dataframe tbody tr th {\n",
       "        vertical-align: top;\n",
       "    }\n",
       "\n",
       "    .dataframe thead th {\n",
       "        text-align: right;\n",
       "    }\n",
       "</style>\n",
       "<table border=\"1\" class=\"dataframe\">\n",
       "  <thead>\n",
       "    <tr style=\"text-align: right;\">\n",
       "      <th></th>\n",
       "      <th>Comment Bodies</th>\n",
       "      <th>sentiment</th>\n",
       "    </tr>\n",
       "  </thead>\n",
       "  <tbody>\n",
       "    <tr>\n",
       "      <th>0</th>\n",
       "      <td>[Thank, Theres, tons, stuff, people, need, kno...</td>\n",
       "      <td>0.051042</td>\n",
       "    </tr>\n",
       "    <tr>\n",
       "      <th>1</th>\n",
       "      <td>[Engine, repeat, Modi, innocent, titlee]</td>\n",
       "      <td>0.500000</td>\n",
       "    </tr>\n",
       "    <tr>\n",
       "      <th>2</th>\n",
       "      <td>[These, people, kill, hundreds, thousands, peo...</td>\n",
       "      <td>-0.400000</td>\n",
       "    </tr>\n",
       "    <tr>\n",
       "      <th>3</th>\n",
       "      <td>[This, actually, good, decision, way, things, ...</td>\n",
       "      <td>0.120000</td>\n",
       "    </tr>\n",
       "    <tr>\n",
       "      <th>4</th>\n",
       "      <td>[gt, super, pamper, haha, Tbh, dont, think, mo...</td>\n",
       "      <td>0.266667</td>\n",
       "    </tr>\n",
       "  </tbody>\n",
       "</table>\n",
       "</div>"
      ],
      "text/plain": [
       "                                      Comment Bodies  sentiment\n",
       "0  [Thank, Theres, tons, stuff, people, need, kno...   0.051042\n",
       "1           [Engine, repeat, Modi, innocent, titlee]   0.500000\n",
       "2  [These, people, kill, hundreds, thousands, peo...  -0.400000\n",
       "3  [This, actually, good, decision, way, things, ...   0.120000\n",
       "4  [gt, super, pamper, haha, Tbh, dont, think, mo...   0.266667"
      ]
     },
     "execution_count": 99,
     "metadata": {},
     "output_type": "execute_result"
    }
   ],
   "source": [
    "corpus_pak.head(5)"
   ]
  },
  {
   "cell_type": "code",
   "execution_count": 96,
   "metadata": {},
   "outputs": [],
   "source": [
    "mpak =[]\n",
    "i=0\n",
    "j=10\n",
    "\n",
    "while(i<120):\n",
    "    cpak = corpus_pak['sentiment'].iloc[i:j].mean()\n",
    "    mpak.append(cpak)\n",
    "    i+=10\n",
    "    j+=10"
   ]
  },
  {
   "cell_type": "markdown",
   "metadata": {},
   "source": [
    "**PLOTTING A GRAPH TO COMPARE PM MODI'S POPULARITY IN r/India VS r/Pakistan**"
   ]
  },
  {
   "cell_type": "code",
   "execution_count": 98,
   "metadata": {},
   "outputs": [
    {
     "data": {
      "text/plain": [
       "Text(0.5, 1.0, 'Popularity of PM Modi in r/india(blue) and r/pakistan(green)')"
      ]
     },
     "execution_count": 98,
     "metadata": {},
     "output_type": "execute_result"
    },
    {
     "data": {
      "image/png": "[encoded data removed]",
      "text/plain": [
       "<Figure size 864x360 with 1 Axes>"
      ]
     },
     "metadata": {
      "needs_background": "light"
     },
     "output_type": "display_data"
    }
   ],
   "source": [
    "plt.figure(figsize=(12,5))\n",
    "plt.plot(months,mpak,color='green', linestyle=':', marker='o',\n",
    "         markerfacecolor='green', markersize=10)\n",
    "plt.plot(months,msen,color='blue', linestyle=':', marker='o',\n",
    "         markerfacecolor='blue', markersize=10)\n",
    "plt.xlabel('Month')\n",
    "plt.ylabel('Popularity')\n",
    "plt.title(\"Popularity of PM Modi in r/india(blue) and r/pakistan(green)\")"
   ]
  },
  {
   "cell_type": "markdown",
   "metadata": {},
   "source": [
    "# CONCLUSION: \n",
    "\n",
    "**The graph shows a comparison in PM Modi's popularity throughout 2018 in r/india and r/pakistan. Although I feel this is not accurate due to various factors such as small dataset from r/pakistan and potential sarcasm in the comments etc. \n",
    "The scripts can be effectively used under suitable circumstances.**"
   ]
  },
  {
   "cell_type": "markdown",
   "metadata": {},
   "source": [
    "\n",
    "\n",
    "\n",
    "\n",
    "\n",
    "\n",
    "\n",
    "\n",
    "# -Saket Kishore"
   ]
  }
 ],
 "metadata": {
  "kernelspec": {
   "display_name": "Python 3",
   "language": "python",
   "name": "python3"
  },
  "language_info": {
   "codemirror_mode": {
    "name": "ipython",
    "version": 3
   },
   "file_extension": ".py",
   "mimetype": "text/x-python",
   "name": "python",
   "nbconvert_exporter": "python",
   "pygments_lexer": "ipython3",
   "version": "3.7.7"
  }
 },
 "nbformat": 4,
 "nbformat_minor": 4
}
